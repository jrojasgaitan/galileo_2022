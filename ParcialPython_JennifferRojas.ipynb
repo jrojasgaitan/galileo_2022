{
 "cells": [
  {
   "cell_type": "markdown",
   "id": "5ca99eb5",
   "metadata": {},
   "source": [
    "1- XOR"
   ]
  },
  {
   "cell_type": "code",
   "execution_count": 2,
   "id": "3cbdfb7e",
   "metadata": {},
   "outputs": [],
   "source": [
    "def xor(a,b):\n",
    "    \n",
    "\n",
    "    x= a\n",
    "    y =b\n",
    "\n",
    "    if a==True:\n",
    "        x =1 \n",
    "    else: \n",
    "        x =0\n",
    "            \n",
    "    if b==True:\n",
    "        y =1 \n",
    "    else: \n",
    "        y =0 \n",
    "        \n",
    "    # tu codigo aqui\n",
    "    if (x==1 and y == 0) or (x==0 and y==1):\n",
    "        resultado = 1\n",
    "    else:    \n",
    "        resultado = 0\n",
    "        \n",
    "    return resultado\n",
    "  \n"
   ]
  },
  {
   "cell_type": "code",
   "execution_count": 22,
   "id": "8d24a647",
   "metadata": {},
   "outputs": [
    {
     "name": "stdout",
     "output_type": "stream",
     "text": [
      "1\n"
     ]
    }
   ],
   "source": [
    " print(xor(1,0))"
   ]
  },
  {
   "cell_type": "code",
   "execution_count": 23,
   "id": "884b9fdd",
   "metadata": {},
   "outputs": [
    {
     "name": "stdout",
     "output_type": "stream",
     "text": [
      "1\n"
     ]
    }
   ],
   "source": [
    " print(xor(0,1))"
   ]
  },
  {
   "cell_type": "code",
   "execution_count": 24,
   "id": "c97d2317",
   "metadata": {},
   "outputs": [
    {
     "name": "stdout",
     "output_type": "stream",
     "text": [
      "0\n"
     ]
    }
   ],
   "source": [
    " print(xor(1,1))"
   ]
  },
  {
   "cell_type": "code",
   "execution_count": 26,
   "id": "5da937c4",
   "metadata": {},
   "outputs": [
    {
     "name": "stdout",
     "output_type": "stream",
     "text": [
      "0\n"
     ]
    }
   ],
   "source": [
    " print(xor(0,0))"
   ]
  },
  {
   "cell_type": "code",
   "execution_count": 27,
   "id": "841d0cb6",
   "metadata": {},
   "outputs": [
    {
     "name": "stdout",
     "output_type": "stream",
     "text": [
      "0\n"
     ]
    }
   ],
   "source": [
    " print(xor(True,True))"
   ]
  },
  {
   "cell_type": "code",
   "execution_count": 28,
   "id": "eb82d021",
   "metadata": {},
   "outputs": [
    {
     "name": "stdout",
     "output_type": "stream",
     "text": [
      "1\n"
     ]
    }
   ],
   "source": [
    " print(xor(True,False))"
   ]
  },
  {
   "cell_type": "code",
   "execution_count": 29,
   "id": "b5cf818d",
   "metadata": {},
   "outputs": [
    {
     "name": "stdout",
     "output_type": "stream",
     "text": [
      "1\n"
     ]
    }
   ],
   "source": [
    " print(xor(False,True))"
   ]
  },
  {
   "cell_type": "code",
   "execution_count": 3,
   "id": "c9fe9fbb",
   "metadata": {},
   "outputs": [
    {
     "name": "stdout",
     "output_type": "stream",
     "text": [
      "0\n"
     ]
    }
   ],
   "source": [
    " print(xor(False,False))"
   ]
  },
  {
   "cell_type": "markdown",
   "id": "ba48e4c5",
   "metadata": {},
   "source": [
    "2-Sumando Series\n"
   ]
  },
  {
   "cell_type": "code",
   "execution_count": 38,
   "id": "263739e6",
   "metadata": {},
   "outputs": [],
   "source": [
    "def summingSeries(x):\n",
    "    t=0\n",
    "    i=1\n",
    "    while i <= x:\n",
    "     #   print(t)\n",
    "        t = t+ i**2-((i-1)**2)\n",
    "        i+=1\n",
    "    return t"
   ]
  },
  {
   "cell_type": "code",
   "execution_count": 62,
   "id": "755b5aa9",
   "metadata": {},
   "outputs": [
    {
     "name": "stdout",
     "output_type": "stream",
     "text": [
      "25\n"
     ]
    }
   ],
   "source": [
    "print(summingSeries(5))"
   ]
  },
  {
   "cell_type": "markdown",
   "id": "a42ae4a6",
   "metadata": {},
   "source": [
    "2.1-Ciclos"
   ]
  },
  {
   "cell_type": "code",
   "execution_count": 75,
   "id": "84f6c088",
   "metadata": {},
   "outputs": [
    {
     "name": "stdout",
     "output_type": "stream",
     "text": [
      "100\n"
     ]
    }
   ],
   "source": [
    "t=0\n",
    "i=1\n",
    "    \n",
    "for i in range(1, 11):\n",
    "   \n",
    "    t = t+ i**2-((i-1)**2)\n",
    "    i+=1\n",
    "print(t)"
   ]
  },
  {
   "cell_type": "markdown",
   "id": "8b457097",
   "metadata": {},
   "source": [
    "3-Factores Primos"
   ]
  },
  {
   "cell_type": "code",
   "execution_count": 144,
   "id": "27ccbbbb",
   "metadata": {},
   "outputs": [],
   "source": [
    "def fnValPrimo(n):\n",
    "    if n < 2 or n==4:\n",
    "        return 0\n",
    "    for i in range(2, n): \n",
    "        if n % i == 0:    \n",
    "            return 0\n",
    "    return 1\n"
   ]
  },
  {
   "cell_type": "code",
   "execution_count": 266,
   "id": "fc93b814",
   "metadata": {},
   "outputs": [],
   "source": [
    "def conteoPrimos(n):\n",
    "    contador =1\n",
    "    newlist = []\n",
    "    for i in range(0,n+1):\n",
    "  \n",
    "        if fnValPrimo(i) == 1:\n",
    "            newlist.append(i)\n",
    "            i+=1\n",
    "        \n",
    "            contador = contador *i\n",
    "     \n",
    "        if contador>n:\n",
    "            \n",
    "            break\n",
    "    print(len(newlist))\n",
    "    print(newlist)"
   ]
  },
  {
   "cell_type": "code",
   "execution_count": 267,
   "id": "1e605b6b",
   "metadata": {},
   "outputs": [
    {
     "name": "stdout",
     "output_type": "stream",
     "text": [
      "5\n",
      "[2, 3, 5, 7, 11]\n",
      "None\n"
     ]
    }
   ],
   "source": [
    "\n",
    "print(conteoPrimos(600))"
   ]
  },
  {
   "cell_type": "markdown",
   "id": "3093fba7",
   "metadata": {},
   "source": [
    "4-Método  Euler\n",
    "\n"
   ]
  },
  {
   "cell_type": "markdown",
   "id": "d1ecfb60",
   "metadata": {},
   "source": [
    "5-Rotacion de listas hacia la izquierda"
   ]
  },
  {
   "cell_type": "code",
   "execution_count": 259,
   "id": "743e2a64",
   "metadata": {},
   "outputs": [],
   "source": [
    "def rotIzquierda(a,b):\n",
    "    largo=len(a)\n",
    "    newlist=a[b:largo]\n",
    "   \n",
    "    b = a[0:b]\n",
    "    c=newlist+b\n",
    "    return c"
   ]
  },
  {
   "cell_type": "code",
   "execution_count": 265,
   "id": "36eb4732",
   "metadata": {},
   "outputs": [
    {
     "data": {
      "text/plain": [
       "['melon', 'mango', 'apple', 'banana', 'cherry', 'orange', 'kiwi']"
      ]
     },
     "execution_count": 265,
     "metadata": {},
     "output_type": "execute_result"
    }
   ],
   "source": [
    "rotIzquierda([\"apple\", \"banana\", \"cherry\", \"orange\", \"kiwi\", \"melon\", \"mango\"],5)\n",
    "\n",
    "\n",
    "\n"
   ]
  }
 ],
 "metadata": {
  "kernelspec": {
   "display_name": "Python 3 (ipykernel)",
   "language": "python",
   "name": "python3"
  },
  "language_info": {
   "codemirror_mode": {
    "name": "ipython",
    "version": 3
   },
   "file_extension": ".py",
   "mimetype": "text/x-python",
   "name": "python",
   "nbconvert_exporter": "python",
   "pygments_lexer": "ipython3",
   "version": "3.9.7"
  }
 },
 "nbformat": 4,
 "nbformat_minor": 5
}
